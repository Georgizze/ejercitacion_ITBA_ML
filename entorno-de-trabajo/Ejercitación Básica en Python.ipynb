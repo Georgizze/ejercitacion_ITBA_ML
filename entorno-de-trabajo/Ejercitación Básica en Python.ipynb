{
 "cells": [
  {
   "cell_type": "markdown",
   "metadata": {},
   "source": [
    "# Ejercitación Básica en Python\n",
    "\n",
    "Los siguientes ejercicios tienen como objetivo introducir al alumno en la programación en Python.  \n",
    "Los mismos están ordenados por dificultad ascendente y fueron extraídos de http://www.practicepython.org/.\n",
    "En dicha página hay información adicional sobre cada ejercicio. Se recomienda leer cada link con detenimiento ya que los recursos para realizar la resolución se encuentran explicados con detalle."
   ]
  },
  {
   "cell_type": "markdown",
   "metadata": {},
   "source": [
    "[Ejercicio 1](http://www.practicepython.org/exercise/2014/01/29/01-character-input.html)\n",
    "- Escribir un programa que pregunte al usuario su nombre y la edad. \n",
    "- Imprimir un mensaje dirigido al usuario que le diga en qué año va a tener 100 años."
   ]
  },
  {
   "cell_type": "code",
   "execution_count": 1,
   "metadata": {
    "collapsed": false
   },
   "outputs": [
    {
     "name": "stdout",
     "output_type": "stream",
     "text": [
      "Por favor, ingrese su nombre.\n",
      "Jorge\n",
      "Ingrese su edad.\n",
      "25\n",
      "Usted va a tener 100 años en el año:  2093\n"
     ]
    }
   ],
   "source": [
    "import datetime\n",
    "\n",
    "nomb = input(\"Por favor, ingrese su nombre.\\n\")\n",
    "edad = input(\"Ingrese su edad.\\n\")\n",
    "\n",
    "dif = 100 - int(edad)\n",
    "\n",
    "date = datetime.datetime.now()\n",
    "year = date.year\n",
    "\n",
    "print(\"Usted va a tener 100 años en el año: \", int(year) + dif)"
   ]
  },
  {
   "cell_type": "markdown",
   "metadata": {},
   "source": [
    "[Ejercicio 2](http://www.practicepython.org/exercise/2014/02/05/02-odd-or-even.html)\n",
    "- Pedir al usuario que ingrese un número.\n",
    "- Imprimir un mensaje indicando si el número es par o impar."
   ]
  },
  {
   "cell_type": "code",
   "execution_count": 2,
   "metadata": {
    "collapsed": false
   },
   "outputs": [
    {
     "name": "stdout",
     "output_type": "stream",
     "text": [
      "Por favor, ingrese un número.\n",
      "76\n",
      "El número es par.\n"
     ]
    }
   ],
   "source": [
    "num = input(\"Por favor, ingrese un número.\\n\")\n",
    "\n",
    "resto = int(num) % 2\n",
    "\n",
    "if resto == 0:\n",
    "\tprint(\"El número es par.\")\n",
    "else:\n",
    "\tprint(\"El número es impar.\")"
   ]
  },
  {
   "cell_type": "markdown",
   "metadata": {},
   "source": [
    "[Ejercicio 3](http://www.practicepython.org/exercise/2014/02/15/03-list-less-than-ten.html):\n",
    "\n",
    "- Escribir un programa que imprima todos los elementos de una lista que sean menores al 5.\n",
    "\n"
   ]
  },
  {
   "cell_type": "code",
   "execution_count": null,
   "metadata": {
    "collapsed": true
   },
   "outputs": [],
   "source": []
  },
  {
   "cell_type": "markdown",
   "metadata": {},
   "source": [
    "[Ejercicio 4](http://www.practicepython.org/exercise/2014/02/26/04-divisors.html)\n",
    "- Pedir al usuario que ingrese un número.\n",
    "- Imprimir todos los divisores del número ingresado."
   ]
  },
  {
   "cell_type": "code",
   "execution_count": null,
   "metadata": {
    "collapsed": true
   },
   "outputs": [],
   "source": []
  },
  {
   "cell_type": "markdown",
   "metadata": {},
   "source": [
    "[Ejercicio 5](http://www.practicepython.org/exercise/2014/03/05/05-list-overlap.html)\n",
    "- Escribir un programa que a partir de dos listas, devuelva los elementos comunes entre las dos listas.\n",
    "- La salida deberá no tener elementos duplicados.\n",
    "- Asegúrese que su programa funcione para dos listas de distintos tamaños."
   ]
  },
  {
   "cell_type": "code",
   "execution_count": null,
   "metadata": {
    "collapsed": true
   },
   "outputs": [],
   "source": []
  },
  {
   "cell_type": "markdown",
   "metadata": {},
   "source": [
    "[Ejercicio 6](http://www.practicepython.org/exercise/2014/03/12/06-string-lists.html)\n",
    "- Pedir al usuario que ingrese un texto.\n",
    "- Imprimir un mensaje que indique si el texto ingresado es un paĺíndromo o no."
   ]
  },
  {
   "cell_type": "code",
   "execution_count": null,
   "metadata": {
    "collapsed": true
   },
   "outputs": [],
   "source": []
  },
  {
   "cell_type": "markdown",
   "metadata": {},
   "source": [
    "[Ejercicio 7](http://www.practicepython.org/exercise/2014/03/19/07-list-comprehensions.html)\n",
    "- Escribir un programa que a partir de una lista, devuelva una lista que solo contenga los elementos pares.\n",
    "- La selección de elementos deberá hacerse en una sola línea de código."
   ]
  },
  {
   "cell_type": "code",
   "execution_count": null,
   "metadata": {
    "collapsed": true
   },
   "outputs": [],
   "source": []
  },
  {
   "cell_type": "markdown",
   "metadata": {},
   "source": [
    "[Ejercicio 10](http://www.practicepython.org/exercise/2014/04/10/10-list-overlap-comprehensions.html)\n",
    "- Al igual que en el ejercicio 5, a partir de dos listas, se ddeberán devolver los elementos comunes entre las dos listas.\n",
    "- La salida deberá no tener elementos duplicados.\n",
    "- Se deberán utilizar list comprenhensions."
   ]
  },
  {
   "cell_type": "markdown",
   "metadata": {},
   "source": [
    "[Ejercicio 17](http://www.practicepython.org/exercise/2014/06/06/17-decode-a-web-page.html)\n",
    "\n",
    "- Utilizar los paquetes BeautifulSoup y request para imprimir una lista de los títulos de la página principal del [New York Times](https://www.nytimes.com/)."
   ]
  },
  {
   "cell_type": "code",
   "execution_count": null,
   "metadata": {
    "collapsed": true
   },
   "outputs": [],
   "source": []
  }
 ],
 "metadata": {
  "kernelspec": {
   "display_name": "Python 3",
   "language": "python",
   "name": "python3"
  },
  "language_info": {
   "codemirror_mode": {
    "name": "ipython",
    "version": 3
   },
   "file_extension": ".py",
   "mimetype": "text/x-python",
   "name": "python",
   "nbconvert_exporter": "python",
   "pygments_lexer": "ipython3",
   "version": "3.6.0"
  }
 },
 "nbformat": 4,
 "nbformat_minor": 2
}
