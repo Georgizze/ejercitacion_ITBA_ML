{
 "cells": [
  {
   "cell_type": "code",
   "execution_count": 1,
   "metadata": {
    "collapsed": true
   },
   "outputs": [],
   "source": [
    "from sklearn.feature_extraction.text import CountVectorizer\n",
    "import numpy as np\n",
    "import matplotlib.pyplot as plt"
   ]
  },
  {
   "cell_type": "code",
   "execution_count": 2,
   "metadata": {
    "collapsed": false
   },
   "outputs": [],
   "source": [
    "# Definicion de listas\n",
    "\n",
    "vocabulary = ['alargue','automovil','casa','novedoso']\n",
    "labels = []\n",
    "\n",
    "labels.append(True)\n",
    "labels.append(False)\n",
    "labels.append(False)\n",
    "labels.append(True)\n",
    "labels.append(False)\n",
    "labels.append(False)\n",
    "\n",
    "emails_array = [\n",
    "    'alargue alargue alargue automovil automovil automovil casa novedoso novedoso novedoso novedoso novedoso novedoso',\n",
    "    'alargue automovil automovil automovil automovil casa casa casa casa casa casa casa novedoso',\n",
    "    'alargue automovil automovil automovil automovil casa casa casa novedoso',\n",
    "    'alargue alargue alargue alargue automovil automovil casa novedoso novedoso novedoso novedoso novedoso',\n",
    "    'alargue automovil automovil automovil casa casa casa casa novedoso novedoso',\n",
    "    'alargue alargue automovil automovil automovil automovil casa casa casa casa casa novedoso'\n",
    "]"
   ]
  },
  {
   "cell_type": "code",
   "execution_count": 3,
   "metadata": {
    "collapsed": false
   },
   "outputs": [
    {
     "name": "stdout",
     "output_type": "stream",
     "text": [
      "----------\n",
      "PREGUNTA 1\n",
      "----------\n",
      "\n",
      "Probabilidad de recibir un mail y que sea SPAM:\n",
      "0.3333333333333333\n",
      "\n",
      "Probabilidad de recibir un mail y que sea HAM:\n",
      "0.6666666666666667\n"
     ]
    }
   ],
   "source": [
    "# PREGUNTA 1\n",
    "p_SPAM = sum(labels) / len(labels)\n",
    "p_HAM = 1 - p_SPAM\n",
    "\n",
    "print('----------')\n",
    "print('PREGUNTA 1')\n",
    "print('----------')\n",
    "print('')\n",
    "\n",
    "print('Probabilidad de recibir un mail y que sea SPAM:')\n",
    "print(p_SPAM)\n",
    "print()\n",
    "\n",
    "print('Probabilidad de recibir un mail y que sea HAM:')\n",
    "print(p_HAM)"
   ]
  },
  {
   "cell_type": "code",
   "execution_count": 4,
   "metadata": {
    "collapsed": false
   },
   "outputs": [],
   "source": [
    "count_vectorizer = CountVectorizer(vocabulary=vocabulary)\n",
    "feature_matrix = count_vectorizer.fit_transform(emails_array)"
   ]
  },
  {
   "cell_type": "code",
   "execution_count": 5,
   "metadata": {
    "collapsed": false
   },
   "outputs": [
    {
     "name": "stdout",
     "output_type": "stream",
     "text": [
      "Cantidad de palabras en cada clase\n",
      "SPAM: 25 HAM: 44\n",
      "\n",
      "----------\n",
      "PREGUNTA 2\n",
      "----------\n",
      "\n",
      "Probabilidad de ocurrencia de cada palabra si es SPAM:\n",
      "['alargue', 'automovil', 'casa', 'novedoso']\n",
      "[[ 0.28  0.2   0.08  0.44]]\n",
      "\n",
      "Probabilidad de ocurrencia de cada palabra si es HAM:\n",
      "['alargue', 'automovil', 'casa', 'novedoso']\n",
      "[[ 0.11363636  0.34090909  0.43181818  0.11363636]]\n"
     ]
    }
   ],
   "source": [
    "def get_histogram_from_matrix(alpha, feature_matrix):\n",
    "    # Alpha es para suavizar y evitar la probabilidad cero. Normalmente 1 (En este caso como no tenemos ninguna ocurrencia 0 no lo necesito)\n",
    "    # Para calcular la probabilidad con fines académicos lo dejo en cero\n",
    "    words_distribution_un = feature_matrix.sum(axis=0) + alpha\n",
    "    words_distribution = words_distribution_un/(words_distribution_un.sum()) # + alpha*feature_matrix.shape[1])\n",
    "    return words_distribution\n",
    "\n",
    "spam_feature_matrix = feature_matrix[np.where(labels)[0],:]\n",
    "ham_feature_matrix = feature_matrix[np.logical_not(labels),:]\n",
    "\n",
    "print('Cantidad de palabras en cada clase')\n",
    "print('SPAM:',spam_feature_matrix.sum(), 'HAM:',ham_feature_matrix.sum())\n",
    "print()\n",
    "\n",
    "# PREGUNTA 2\n",
    "print('----------')\n",
    "print('PREGUNTA 2')\n",
    "print('----------')\n",
    "print('')\n",
    "\n",
    "# P(x_i/SPAM)\n",
    "print('Probabilidad de ocurrencia de cada palabra si es SPAM:')\n",
    "spam_words_distribution = get_histogram_from_matrix(0, spam_feature_matrix)\n",
    "print(vocabulary)\n",
    "print(spam_words_distribution)\n",
    "print()\n",
    "\n",
    "# P(x_i/HAM)\n",
    "print('Probabilidad de ocurrencia de cada palabra si es HAM:')\n",
    "ham_words_distribution = get_histogram_from_matrix(0, ham_feature_matrix)\n",
    "print(vocabulary)\n",
    "print(ham_words_distribution)"
   ]
  },
  {
   "cell_type": "code",
   "execution_count": 6,
   "metadata": {
    "collapsed": true
   },
   "outputs": [],
   "source": [
    "def plot_bar_chart(P, vocabulary = None, title='title'):\n",
    "    N = len(P)\n",
    "    plt.figure(figsize=(20, 5)) # Tamaño del gráfico\n",
    "    indexes = list(range(1, len(P) + 1))\n",
    "    plt.bar(indexes, P, width=0.75, color='b') # Grafico\n",
    "    plt.title(title)\n",
    "\n",
    "    # Definición de indices\n",
    "    if not vocabulary:\n",
    "        string_indexes = [str(i) for i in indexes]\n",
    "    else:\n",
    "        string_indexes = [vocabulary[i-1] for i in indexes]\n",
    "    plt.xlim([0,N+1])\n",
    "    plt.xticks(indexes, string_indexes) \n",
    "    plt.xticks(rotation=60)\n",
    "    plt.show()"
   ]
  },
  {
   "cell_type": "code",
   "execution_count": 7,
   "metadata": {
    "collapsed": false
   },
   "outputs": [
    {
     "data": {
      "image/png": "[encoded data removed]",
      "text/plain": [
       "<matplotlib.figure.Figure at 0x1a773444a20>"
      ]
     },
     "metadata": {},
     "output_type": "display_data"
    },
    {
     "data": {
      "image/png": "[encoded data removed]",
      "text/plain": [
       "<matplotlib.figure.Figure at 0x1a773444a58>"
      ]
     },
     "metadata": {},
     "output_type": "display_data"
    }
   ],
   "source": [
    "N = 4\n",
    "plot_bar_chart(np.array(spam_words_distribution)[0][:N],\n",
    "               vocabulary = vocabulary,\n",
    "               title='SPAM')\n",
    "plot_bar_chart(np.array(ham_words_distribution)[0][:N],\n",
    "               vocabulary = vocabulary,\n",
    "               title='HAM')"
   ]
  },
  {
   "cell_type": "code",
   "execution_count": 8,
   "metadata": {
    "collapsed": false
   },
   "outputs": [],
   "source": [
    "# PREGUNTA 3\n",
    "\n",
    "# Calcular la probabilidad de que el siguiente mail sea SPAM\n",
    "emails_array_test = ['alargue alargue alargue alargue automovil casa novedoso novedoso novedoso novedoso novedoso']\n",
    "\n",
    "count_vectorizer = CountVectorizer(vocabulary=vocabulary)\n",
    "feature_matrix_test = count_vectorizer.fit_transform(emails_array_test)"
   ]
  },
  {
   "cell_type": "code",
   "execution_count": 9,
   "metadata": {
    "collapsed": false
   },
   "outputs": [
    {
     "name": "stdout",
     "output_type": "stream",
     "text": [
      "----------\n",
      "PREGUNTA 3\n",
      "----------\n",
      "\n",
      "Estimación de probabilidades de cada clase:\n",
      "SPAM: 0.0000121161\n",
      "HAM: 0.0000003170\n",
      "\n",
      "Log likelihood:\n",
      "SPAM:  -11.3209754879\n",
      "HAM:  -14.9644004165\n"
     ]
    }
   ],
   "source": [
    "print('----------')\n",
    "print('PREGUNTA 3')\n",
    "print('----------')\n",
    "print('')\n",
    "\n",
    "print('Estimación de probabilidades de cada clase:')\n",
    "\n",
    "non_zero_row = feature_matrix_test.nonzero()\n",
    "print('SPAM: {0:.10f}'.format(spam_words_distribution[0, non_zero_row].prod()))\n",
    "print('HAM: {0:.10f}'.format(ham_words_distribution[0, non_zero_row].prod()))\n",
    "print()\n",
    "\n",
    "print('Log likelihood:')\n",
    "print('SPAM: ', np.log(spam_words_distribution[0, non_zero_row]).sum())\n",
    "print('HAM: ', np.log(ham_words_distribution[0, non_zero_row]).sum())"
   ]
  },
  {
   "cell_type": "code",
   "execution_count": 10,
   "metadata": {
    "collapsed": true
   },
   "outputs": [],
   "source": [
    "# El mail es SPAM!"
   ]
  },
  {
   "cell_type": "code",
   "execution_count": null,
   "metadata": {
    "collapsed": true
   },
   "outputs": [],
   "source": []
  }
 ],
 "metadata": {
  "kernelspec": {
   "display_name": "Python 3",
   "language": "python",
   "name": "python3"
  },
  "language_info": {
   "codemirror_mode": {
    "name": "ipython",
    "version": 3
   },
   "file_extension": ".py",
   "mimetype": "text/x-python",
   "name": "python",
   "nbconvert_exporter": "python",
   "pygments_lexer": "ipython3",
   "version": "3.6.0"
  }
 },
 "nbformat": 4,
 "nbformat_minor": 2
}
