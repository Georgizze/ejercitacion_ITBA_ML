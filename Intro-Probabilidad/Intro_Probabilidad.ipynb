{
 "cells": [
  {
   "cell_type": "markdown",
   "metadata": {},
   "source": [
    "# Antes de empezar:\n",
    "- git pull\n",
    "\n",
    "Entorno de trabajo minimo:\n",
    "- conda env create -f mllab.yml\n",
    "- mllab.yml es un archivo que contiene el listado de paquetes para instalar\n",
    "- fue generado con el comando:\n",
    "conda env export > mllab.yml"
   ]
  },
  {
   "cell_type": "markdown",
   "metadata": {},
   "source": [
    "# Aplicaciones:\n",
    "* Localización (Filtros de Histogramas) [Ver Notebook](./Localizacion.ipynb)\n",
    "* Clasificacion (Naive Bayes) [Ver Notebook](./Naive_Bayes.ipynb)\n",
    "    * Document classification\n",
    "    * Detección de SPAM\n",
    "    * Detectar autor"
   ]
  },
  {
   "cell_type": "markdown",
   "metadata": {},
   "source": [
    "# Técnicas\n",
    "* Filtros de histogramas (Histogram Filters)\n",
    "* Naive Bayes"
   ]
  },
  {
   "cell_type": "markdown",
   "metadata": {},
   "source": [
    "# Background teórico necesario\n",
    "* Probabilidad conjunta, condicional, marginal\n",
    "* Teorema de Bayes\n",
    "* Función de masa de probabilidad y distribución de probabilidad\n",
    "* Independencia\n",
    "* Variables Aleatorias Gaussianas"
   ]
  },
  {
   "cell_type": "markdown",
   "metadata": {},
   "source": [
    "# Herramientas\n",
    "* Listas y diccionarios en **Python**\n",
    "* Operaciones con arreglos en **Numpy**\n",
    "* **Sklearn**: Vectorizers y NB\n",
    "* Sparse matrices\n",
    "* T-SNE"
   ]
  },
  {
   "cell_type": "markdown",
   "metadata": {},
   "source": [
    "# Referencias:\n",
    "- Localización: https://classroom.udacity.com/courses/cs373/lessons/48739381/concepts/487122860923\n",
    "- Naive Bayes: https://classroom.udacity.com/courses/ud120/lessons/2254358555/concepts/30076485360923\n",
    "- sklearn Naive Bayes: http://scikit-learn.org/stable/modules/naive_bayes.html#gaussian-naive-bayes\n",
    "- Numpy: https://docs.scipy.org/doc/numpy/index.html"
   ]
  }
 ],
 "metadata": {
  "kernelspec": {
   "display_name": "Python 3",
   "language": "python",
   "name": "python3"
  },
  "language_info": {
   "codemirror_mode": {
    "name": "ipython",
    "version": 3
   },
   "file_extension": ".py",
   "mimetype": "text/x-python",
   "name": "python",
   "nbconvert_exporter": "python",
   "pygments_lexer": "ipython3",
   "version": "3.6.2"
  },
  "toc": {
   "colors": {
    "hover_highlight": "#DAA520",
    "navigate_num": "#000000",
    "navigate_text": "#333333",
    "running_highlight": "#FF0000",
    "selected_highlight": "#FFD700",
    "sidebar_border": "#EEEEEE",
    "wrapper_background": "#FFFFFF"
   },
   "moveMenuLeft": true,
   "nav_menu": {
    "height": "48px",
    "width": "252px"
   },
   "navigate_menu": true,
   "number_sections": true,
   "sideBar": false,
   "threshold": 4,
   "toc_cell": false,
   "toc_position": {
    "height": "269px",
    "left": "1px",
    "right": "20px",
    "top": "67px",
    "width": "133px"
   },
   "toc_section_display": "block",
   "toc_window_display": true,
   "widenNotebook": false
  }
 },
 "nbformat": 4,
 "nbformat_minor": 2
}
